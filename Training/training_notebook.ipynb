{
 "cells": [
  {
   "cell_type": "markdown",
   "id": "8e07185b",
   "metadata": {},
   "source": [
    "1.Import Required Libraries"
   ]
  },
  {
   "cell_type": "code",
   "execution_count": 3,
   "id": "0d4b87e8",
   "metadata": {},
   "outputs": [],
   "source": [
    "# Training/training_notebook.ipynb\n",
    "\n",
    "import pandas as pd\n",
    "from sklearn.model_selection import train_test_split\n",
    "from sklearn.feature_extraction.text import TfidfVectorizer\n",
    "from sklearn.linear_model import LogisticRegression\n",
    "from sklearn.svm import SVC\n",
    "from sklearn.ensemble import RandomForestClassifier, AdaBoostClassifier, GradientBoostingClassifier\n",
    "from sklearn.metrics import accuracy_score"
   ]
  },
  {
   "cell_type": "markdown",
   "id": "d94dcc88",
   "metadata": {},
   "source": [
    "2.Load Preprocessed Data"
   ]
  },
  {
   "cell_type": "code",
   "execution_count": 4,
   "id": "1a517744",
   "metadata": {},
   "outputs": [],
   "source": [
    "# Load Preprocessed Data\n",
    "data = pd.read_csv('../Data/preprocessed_data.csv')"
   ]
  },
  {
   "cell_type": "markdown",
   "id": "83ca3149",
   "metadata": {},
   "source": [
    "3.Drop rows"
   ]
  },
  {
   "cell_type": "code",
   "execution_count": 9,
   "id": "45e967cd",
   "metadata": {},
   "outputs": [],
   "source": [
    "# Drop rows where tweet_text is NaN\n",
    "data = data.dropna(subset=['tweet_text'])\n",
    "\n",
    "X = data['tweet_text']\n",
    "y = data['cyberbullying_type']  # use the correct label column"
   ]
  },
  {
   "cell_type": "markdown",
   "id": "93e74e05",
   "metadata": {},
   "source": [
    "4.Vectorize text and Split Data"
   ]
  },
  {
   "cell_type": "code",
   "execution_count": 12,
   "id": "e0a02fd7",
   "metadata": {},
   "outputs": [],
   "source": [
    "tfidf = TfidfVectorizer(max_features=5000)\n",
    "X_tfidf = tfidf.fit_transform(X)\n",
    "\n",
    "# Split Data\n",
    "X_train, X_test, y_train, y_test = train_test_split(X_tfidf, y, test_size=0.2, random_state=42)"
   ]
  },
  {
   "cell_type": "markdown",
   "id": "90c4b28a",
   "metadata": {},
   "source": [
    "5.Initiate Models"
   ]
  },
  {
   "cell_type": "code",
   "execution_count": 10,
   "id": "52702ed0",
   "metadata": {},
   "outputs": [],
   "source": [
    "models = {\n",
    "    \"Logistic Regression\": LogisticRegression(max_iter=1000),\n",
    "    \"SVM\": SVC(),\n",
    "    \"Random Forest\": RandomForestClassifier(),\n",
    "    \"AdaBoost\": AdaBoostClassifier(),\n",
    "    \"Gradient Boosting\": GradientBoostingClassifier()\n",
    "}"
   ]
  },
  {
   "cell_type": "markdown",
   "id": "46b438ee",
   "metadata": {},
   "source": [
    "6.Training the models"
   ]
  },
  {
   "cell_type": "code",
   "execution_count": 11,
   "id": "cf686eb0",
   "metadata": {},
   "outputs": [
    {
     "name": "stdout",
     "output_type": "stream",
     "text": [
      "Logistic Regression Accuracy: 0.7775\n",
      "SVM Accuracy: 0.7802\n",
      "Random Forest Accuracy: 0.7720\n",
      "AdaBoost Accuracy: 0.5632\n",
      "Gradient Boosting Accuracy: 0.7720\n"
     ]
    }
   ],
   "source": [
    "results = {}\n",
    "\n",
    "for name, model in models.items():\n",
    "    model.fit(X_train, y_train)\n",
    "    preds = model.predict(X_test)\n",
    "    acc = accuracy_score(y_test, preds)\n",
    "    results[name] = acc\n",
    "    print(f\"{name} Accuracy: {acc:.4f}\")"
   ]
  },
  {
   "cell_type": "markdown",
   "id": "7ccdb1e9",
   "metadata": {},
   "source": [
    "7.Display Results"
   ]
  },
  {
   "cell_type": "code",
   "execution_count": 5,
   "id": "19c23687",
   "metadata": {},
   "outputs": [
    {
     "name": "stdout",
     "output_type": "stream",
     "text": [
      "\n",
      "All Model Results: {'Logistic Regression': 0.7774725274725275, 'SVM': 0.7802197802197802, 'Random Forest': 0.7747252747252747, 'AdaBoost': 0.5631868131868132, 'Gradient Boosting': 0.7747252747252747}\n"
     ]
    }
   ],
   "source": [
    "# Display Results\n",
    "print(\"\\nAll Model Results:\", results)"
   ]
  }
 ],
 "metadata": {
  "kernelspec": {
   "display_name": "cyber_env",
   "language": "python",
   "name": "python3"
  },
  "language_info": {
   "codemirror_mode": {
    "name": "ipython",
    "version": 3
   },
   "file_extension": ".py",
   "mimetype": "text/x-python",
   "name": "python",
   "nbconvert_exporter": "python",
   "pygments_lexer": "ipython3",
   "version": "3.9.23"
  }
 },
 "nbformat": 4,
 "nbformat_minor": 5
}
