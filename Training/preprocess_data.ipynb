{
 "cells": [
  {
   "cell_type": "markdown",
   "id": "56fd8682",
   "metadata": {},
   "source": [
    "1.Import Libraries"
   ]
  },
  {
   "cell_type": "code",
   "execution_count": 3,
   "id": "f5ae3013",
   "metadata": {},
   "outputs": [],
   "source": [
    "import pandas as pd\n",
    "import re\n",
    "import string\n",
    "from sklearn.model_selection import train_test_split"
   ]
  },
  {
   "cell_type": "markdown",
   "id": "6295d8cf",
   "metadata": {},
   "source": [
    "2.Load Data"
   ]
  },
  {
   "cell_type": "code",
   "execution_count": 7,
   "id": "e685bc43",
   "metadata": {},
   "outputs": [
    {
     "name": "stdout",
     "output_type": "stream",
     "text": [
      "✅ Original Data Loaded\n"
     ]
    }
   ],
   "source": [
    "# Load Data\n",
    "data = pd.read_csv('../Data/your_dataset.csv')\n",
    "print(\"✅ Original Data Loaded\")"
   ]
  },
  {
   "cell_type": "markdown",
   "id": "9405321b",
   "metadata": {},
   "source": [
    "3.Text cleaning function"
   ]
  },
  {
   "cell_type": "code",
   "execution_count": 6,
   "id": "dee344b7",
   "metadata": {},
   "outputs": [],
   "source": [
    "def clean_text(text):\n",
    "    text = str(text).lower()\n",
    "    text = re.sub(r\"http\\S+|www\\S+|https\\S+\", '', text)\n",
    "    text = re.sub(r'\\@\\w+|\\#','', text)\n",
    "    text = re.sub(r'[%s]' % re.escape(string.punctuation), '', text)\n",
    "    text = re.sub(r'\\d+', '', text)\n",
    "    text = re.sub(r'\\s+', ' ', text).strip()\n",
    "    return text"
   ]
  },
  {
   "cell_type": "markdown",
   "id": "4e886e32",
   "metadata": {},
   "source": [
    "4.Apply cleaning"
   ]
  },
  {
   "cell_type": "code",
   "execution_count": 5,
   "id": "6239a01f",
   "metadata": {},
   "outputs": [],
   "source": [
    "# Apply Cleaning\n",
    "data['tweet_text'] = data['tweet_text'].apply(clean_text)"
   ]
  },
  {
   "cell_type": "markdown",
   "id": "87631526",
   "metadata": {},
   "source": [
    "5.Save Preprocessed data"
   ]
  },
  {
   "cell_type": "code",
   "execution_count": 4,
   "id": "a89848da",
   "metadata": {},
   "outputs": [
    {
     "name": "stdout",
     "output_type": "stream",
     "text": [
      "✅ Preprocessed data saved as preprocessed_data.csv\n"
     ]
    }
   ],
   "source": [
    "# Save Preprocessed Data\n",
    "data.to_csv('../Data/preprocessed_data.csv', index=False)\n",
    "print(\"✅ Preprocessed data saved as preprocessed_data.csv\")"
   ]
  },
  {
   "cell_type": "code",
   "execution_count": null,
   "id": "308566de",
   "metadata": {},
   "outputs": [
    {
     "name": "stdout",
     "output_type": "stream",
     "text": [
      "✅ Original Data Loaded\n",
      "✅ Preprocessed data saved as preprocessed_data.csv\n"
     ]
    }
   ],
   "source": []
  }
 ],
 "metadata": {
  "kernelspec": {
   "display_name": "cyber_env",
   "language": "python",
   "name": "python3"
  },
  "language_info": {
   "codemirror_mode": {
    "name": "ipython",
    "version": 3
   },
   "file_extension": ".py",
   "mimetype": "text/x-python",
   "name": "python",
   "nbconvert_exporter": "python",
   "pygments_lexer": "ipython3",
   "version": "3.9.23"
  }
 },
 "nbformat": 4,
 "nbformat_minor": 5
}
