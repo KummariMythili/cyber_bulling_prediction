{
 "cells": [
  {
   "cell_type": "code",
   "execution_count": null,
   "id": "b5c187f4",
   "metadata": {},
   "outputs": [
    {
     "name": "stdout",
     "output_type": "stream",
     "text": [
      "Fitting 3 folds for each of 12 candidates, totalling 36 fits\n",
      "✅ Best Parameters: {'C': 1, 'gamma': 'scale', 'kernel': 'linear'}\n",
      "✅ Best Cross-Validation Accuracy: 0.7577194083044668\n",
      "✅ Fine-tuned model saved as fine_tune.pkl\n"
     ]
    }
   ],
   "source": [
    "#import required libraries\n",
    "\n",
    "import pandas as pd\n",
    "import pickle\n",
    "from sklearn.model_selection import GridSearchCV\n",
    "from sklearn.svm import SVC\n",
    "\n",
    "# Load Data\n",
    "data = pd.read_csv('../Data/preprocessed_data.csv')\n",
    "data.dropna(subset=['tweet_text', 'cyberbullying_type'], inplace=True)\n",
    "\n",
    "X = data['tweet_text']\n",
    "y = data['cyberbullying_type']  # use the correct label column\n",
    "\n",
    "# Load the original vectorizer from saved model.pkl\n",
    "with open('../App/model/model.pkl', 'rb') as f:\n",
    "    tfidf, _ = pickle.load(f)\n",
    "\n",
    "# Transform the text data\n",
    "X_tfidf = tfidf.transform(X)\n",
    "\n",
    "# Define the SVM model for tuning\n",
    "svc = SVC(probability=True)\n",
    "\n",
    "# Define hyperparameters to tune\n",
    "param_grid = {\n",
    "    'C': [0.1, 1, 10],\n",
    "    'kernel': ['linear', 'rbf'],\n",
    "    'gamma': ['scale', 'auto']\n",
    "}\n",
    "\n",
    "# Setup GridSearchCV\n",
    "grid_search = GridSearchCV(estimator=svc, param_grid=param_grid, cv=3, scoring='accuracy', verbose=2, n_jobs=-1)\n",
    "\n",
    "# Fit the model\n",
    "grid_search.fit(X_tfidf, y)\n",
    "\n",
    "print(\"✅ Best Parameters:\", grid_search.best_params_)\n",
    "print(\"✅ Best Cross-Validation Accuracy:\", grid_search.best_score_)\n",
    "\n",
    "# Save Fine-Tuned Model\n",
    "with open('../App/model/fine_tune.pkl', 'wb') as f:\n",
    "    pickle.dump((tfidf, grid_search.best_estimator_), f)\n",
    "\n",
    "print(\"✅ Fine-tuned model saved as fine_tune.pkl\")\n"
   ]
  }
 ],
 "metadata": {
  "kernelspec": {
   "display_name": "cyber_env",
   "language": "python",
   "name": "python3"
  },
  "language_info": {
   "codemirror_mode": {
    "name": "ipython",
    "version": 3
   },
   "file_extension": ".py",
   "mimetype": "text/x-python",
   "name": "python",
   "nbconvert_exporter": "python",
   "pygments_lexer": "ipython3",
   "version": "3.9.23"
  }
 },
 "nbformat": 4,
 "nbformat_minor": 5
}
